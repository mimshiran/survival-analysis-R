{
 "cells": [
  {
   "cell_type": "markdown",
   "id": "alive-thermal",
   "metadata": {},
   "source": [
    "## Terrorism, Spoiling, and the Resolution of Civil Wars (Findley & Young 2015): Replication in R"
   ]
  },
  {
   "cell_type": "markdown",
   "id": "balanced-reunion",
   "metadata": {},
   "source": [
    "We need the following packages to run this notebook:\n",
    "```R\n",
    "install.packages(c(\"haven\", \"stargazer\", \"easypackages\", \"coxed\", 'eha', \"flexsurv\"))\n",
    "```"
   ]
  },
  {
   "cell_type": "code",
   "execution_count": null,
   "id": "animal-domestic",
   "metadata": {},
   "outputs": [],
   "source": [
    "install.packages(c(\"coxed\", \"easypackages\"))"
   ]
  },
  {
   "cell_type": "code",
   "execution_count": null,
   "id": "designing-sauce",
   "metadata": {},
   "outputs": [],
   "source": [
    "easypackages::libraries(\"haven\", \"stargazer\", \"survival\",\"ggplot2\", \"eha\", \"coxed\", \"dplyr\", \"flexsurv\", \"survminer\")\n",
    "options(scipen = 999)"
   ]
  },
  {
   "cell_type": "markdown",
   "id": "creative-encoding",
   "metadata": {},
   "source": [
    "### Log-normal Survival Models of War Ending: Models 1 & 2"
   ]
  },
  {
   "cell_type": "markdown",
   "id": "listed-distributor",
   "metadata": {},
   "source": [
    "Here we replicate two models reported in the original article by Findley & Young 2015 (p. 1124) as an example of reproducing their results using R. As main data includes zeros that cannot be used in R, we load the data saved by the authors after processing in Stata using `stset`. Stata drops zero values in duration column during analysis using log-normal distribution, whearas R does not. In order to recreate the original article's sample, we only keep observations that were used in the Stata anslysis ('st'== 1).\n",
    "\n",
    "The authors use `streg` function (AFT), the equivalent for which is usually survreg from Survival package that runs AFT but not for left censoring data or time-varying covariables. Therefore results of models differ from `streg`. Here we use `aftreg` from `eha` package and `flexsurvreg` from `flexsurv` package that handle left censoring and time-varying covariables to reproduce results in the article. \n",
    "\n",
    "We prepare data for survival analysis by creating a survival object using Surv function that involves time and failure. Surv object is then used as dependent variable in the model. The first model is fit using 'lognormal' distribution. "
   ]
  },
  {
   "cell_type": "code",
   "execution_count": null,
   "id": "electronic-animal",
   "metadata": {},
   "outputs": [],
   "source": [
    "duration <- haven::read_dta('replication-data/duration_main_est.dta')\n",
    "duration <- duration[duration$`_st` == 1,]\n",
    "\n",
    "duration$start_date <- duration$`_t0`\n",
    "duration$end_date <- duration$`_t`"
   ]
  },
  {
   "cell_type": "markdown",
   "id": "sapphire-taste",
   "metadata": {},
   "source": [
    "During the process of reading and preparing, data turns into a tibble, which causes problems with later functions. Therefore it is necessary to convert it back into a dataframe."
   ]
  },
  {
   "cell_type": "code",
   "execution_count": null,
   "id": "loved-premiere",
   "metadata": {},
   "outputs": [],
   "source": [
    "duration <- as.data.frame(duration)"
   ]
  },
  {
   "cell_type": "markdown",
   "id": "common-knife",
   "metadata": {},
   "source": [
    "Here we use `aftreg` from `eha` package and `lognormal` distribution that is used by the authors. The signs for `aftreg` is same as `streg` in Stata and `flexsurv` package, but the signs are different."
   ]
  },
  {
   "cell_type": "code",
   "execution_count": null,
   "id": "insured-cleaner",
   "metadata": {},
   "outputs": [],
   "source": [
    "model1 <- aftreg(Surv(start_date, end_date, warend) ~ lagLogTotalWarRelated+logpop+elf+lngdp+uppsalaMaxed+logbattledeaths+mountains+guarantee,\n",
    "                 data = duration, dist = 'lognormal')\n",
    "\n",
    "model2 <- aftreg(Surv(start_date, end_date, warend) ~ smterrorwarrelated+logpop+elf+lngdp+uppsalaMaxed+ logbattledeaths+mountains+guarantee, \n",
    "                      data=duration, dist = 'lognormal')"
   ]
  },
  {
   "cell_type": "code",
   "execution_count": null,
   "id": "laden-beijing",
   "metadata": {},
   "outputs": [],
   "source": [
    "stargazer::stargazer(model1, model2, \n",
    "          covariate.labels = c('Terrorism (log/lag)', 'Terrorism (log/smooth)', 'Population(log)','Ethnic fractionalization', 'GDP(log)', 'Number of Actors', \n",
    "                     'Battle deaths (log)', 'Mountainous terrain', 'Security guarantee'),\n",
    "         column.labels = c('Model 1', 'Model 2'), dep.var.labels.include = FALSE, \n",
    "          keep.stat = c('aic', 'll'), dep.var.caption=\"\",\n",
    "          model.names = FALSE,  type='text')"
   ]
  },
  {
   "cell_type": "markdown",
   "id": "incorrect-union",
   "metadata": {},
   "source": [
    "In the next step, we use `flexsurvreg` function from `flexsurv`"
   ]
  },
  {
   "cell_type": "code",
   "execution_count": null,
   "id": "improved-fight",
   "metadata": {},
   "outputs": [],
   "source": [
    "model1a <- flexsurv::flexsurvreg(Surv(start_date, end_date, warend)~ lagLogTotalWarRelated+logpop+elf+lngdp+uppsalaMaxed+logbattledeaths+mountains+guarantee,\n",
    "                 data = duration, dist = 'lognormal'); model1a\n",
    "\n",
    "model2a <- flexsurv::flexsurvreg(Surv(start_date, end_date, warend)~ smterrorwarrelated+logpop+elf+lngdp+uppsalaMaxed+logbattledeaths+mountains+guarantee,\n",
    "                 data = duration, dist = 'lognormal'); model2a"
   ]
  },
  {
   "cell_type": "markdown",
   "id": "veterinary-protocol",
   "metadata": {},
   "source": [
    "#### Log-normal Survival Models of War Recurrence: Models 3 & 4  "
   ]
  },
  {
   "cell_type": "code",
   "execution_count": null,
   "id": "intimate-hazard",
   "metadata": {},
   "outputs": [],
   "source": [
    "recurrence = read_dta('replication-data/recurrence_main_est.dta')\n",
    "recurrence = recurrence[recurrence$`_st` == 1,]\n",
    "\n",
    "recurrence$start_date <- recurrence$`_t0`\n",
    "recurrence$end_date <- recurrence$`_t`"
   ]
  },
  {
   "cell_type": "code",
   "execution_count": null,
   "id": "democratic-louisville",
   "metadata": {},
   "outputs": [],
   "source": [
    "model3 = aftreg(Surv(start_date, end_date, pcens) ~ \n",
    "                lagLogTotalWarRelated+lpopns+ethfrac+ln_gdpen+inst2+ regd4+absent, data=recurrence, dist = 'lognormal')\n",
    "\n",
    "model4 = aftreg(Surv(start_date, end_date, pcens) ~ \n",
    "                smterrorWarRelated+lpopns+ethfrac+ln_gdpen+inst2+ regd4+absent, data=recurrence, dist = 'lognormal')"
   ]
  },
  {
   "cell_type": "code",
   "execution_count": null,
   "id": "dense-forum",
   "metadata": {},
   "outputs": [],
   "source": [
    "stargazer::stargazer(model3, model4, \n",
    "          covariate.labels = c('Terrorism (log/lag)', 'Terrorism (log/smooth)', 'Population(log)','Ethnic fractionalization', 'GDP(log)', 'Number of Actors', \n",
    "                     'Battle deaths (log)', 'Mountainous terrain', 'Security guarantee'),\n",
    "         column.labels = c('Model 3', 'Model 4'), dep.var.labels.include = FALSE, \n",
    "          keep.stat = c('aic', 'll'), dep.var.caption=\"\",\n",
    "          model.names = FALSE,  type='text')"
   ]
  },
  {
   "cell_type": "code",
   "execution_count": null,
   "id": "figured-passing",
   "metadata": {},
   "outputs": [],
   "source": [
    "model3a <- flexsurv::flexsurvreg(Surv(start_date, end_date, warend)~ lagLogTotalWarRelated+logpop+elf+lngdp+uppsalaMaxed+logbattledeaths+mountains+guarantee,\n",
    "                 data = duration, dist = 'lognormal'); model3a\n",
    "\n",
    "model4a <- flexsurv::flexsurvreg(Surv(start_date, end_date, warend)~ smterrorwarrelated+logpop+elf+lngdp+uppsalaMaxed+logbattledeaths+mountains+guarantee,\n",
    "                 data = duration, dist = 'lognormal'); model4a"
   ]
  }
 ],
 "metadata": {
  "kernelspec": {
   "display_name": "R",
   "language": "R",
   "name": "ir"
  },
  "language_info": {
   "codemirror_mode": "r",
   "file_extension": ".r",
   "mimetype": "text/x-r-source",
   "name": "R",
   "pygments_lexer": "r",
   "version": "3.6.3"
  }
 },
 "nbformat": 4,
 "nbformat_minor": 5
}
