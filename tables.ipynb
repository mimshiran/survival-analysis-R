{
 "cells": [
  {
   "cell_type": "markdown",
   "id": "accurate-congo",
   "metadata": {},
   "source": [
    "# Survival Analysis in International Relations \n",
    "## Replication Code for Tables in Chapter"
   ]
  },
  {
   "cell_type": "markdown",
   "id": "trying-qualification",
   "metadata": {},
   "source": [
    "We need the following packages to run this notebook:\n",
    "```R\n",
    "install.packages(c(\"haven\", \"stargazer\", \"survival\",\"ggplot2\", \"ggrepel\", \"easypackages\", \"coxed\", \"flexsurv\", 'eha', \"survminer\"))\n",
    "```"
   ]
  },
  {
   "cell_type": "code",
   "execution_count": null,
   "id": "reasonable-patent",
   "metadata": {},
   "outputs": [],
   "source": [
    "easypackages::libraries(\"haven\", \"stargazer\", \"survival\",\"ggplot2\", \"eha\", \"coxed\", \"dplyr\", \"flexsurv\", \"survminer\")\n",
    "options(scipen = 999)"
   ]
  },
  {
   "cell_type": "markdown",
   "id": "demographic-population",
   "metadata": {},
   "source": [
    "#### Table 1: Model Fit Comparison of Findley and Young (2015)"
   ]
  },
  {
   "cell_type": "markdown",
   "id": "subtle-salvation",
   "metadata": {},
   "source": [
    "Package `eha` does not include `exponential` distribution. Exponential model can be obtained by choosing `weibull` in combination with 'shape=1'"
   ]
  },
  {
   "cell_type": "code",
   "execution_count": null,
   "id": "assisted-feeling",
   "metadata": {},
   "outputs": [],
   "source": [
    "duration <- haven::read_dta('replication-data/duration_main_est.dta')\n",
    "duration <- duration[duration$`_st` == 1,]\n",
    "\n",
    "duration$start_date <- duration$`_t0`\n",
    "duration$end_date <- duration$`_t`\n",
    "\n",
    "duration <- as.data.frame(duration)"
   ]
  },
  {
   "cell_type": "code",
   "execution_count": 27,
   "id": "brave-louisiana",
   "metadata": {},
   "outputs": [],
   "source": [
    "model_normal = aftreg(Surv(start_date, end_date, warend) ~ lagLogTotalWarRelated+logpop+elf+lngdp+uppsalaMaxed+logbattledeaths+mountains+guarantee, \n",
    "                       data = duration, dist = 'lognormal'); \n",
    "\n",
    "model_weibull = aftreg(Surv(start_date, end_date, warend) ~ lagLogTotalWarRelated+logpop+elf+lngdp+uppsalaMaxed+logbattledeaths+mountains+guarantee, \n",
    "                          data = duration, dist = 'weibull')\n",
    "\n",
    "model_log = aftreg(Surv(start_date, end_date, warend) ~ lagLogTotalWarRelated+logpop+elf+lngdp+uppsalaMaxed+logbattledeaths+mountains+guarantee, \n",
    "                          data = duration, dist = 'loglogistic')\n",
    "\n",
    "model_exp = aftreg(Surv(start_date, end_date, warend) ~ lagLogTotalWarRelated+logpop+elf+lngdp+uppsalaMaxed+logbattledeaths+mountains+guarantee, \n",
    "                          data = duration, dist = 'weibull', shape =1)\n"
   ]
  },
  {
   "cell_type": "code",
   "execution_count": null,
   "id": "parental-retailer",
   "metadata": {},
   "outputs": [],
   "source": [
    "model_fit <- cbind(model_exp$loglik[2], model_weibull$loglik[2], model_normal$loglik[2], model_log$loglik[2])\n",
    "\n",
    "rownames(model_fit) = c(\"Log-Likelihood\")\n",
    "colnames(model_fit) = c(\"Exponential\", \"Weibull\", \"Log Normal\", \"Log Logistic\")\n",
    "\n",
    "stargazer(model_fit, digits = 1, title =\"Model Fit Comparison of Findley and Young (2015)\", flip=TRUE, notes.align =\"c\", type='text')"
   ]
  },
  {
   "cell_type": "markdown",
   "id": "graphic-norwegian",
   "metadata": {},
   "source": [
    "We now compare the performance of models using `flexsurv` package "
   ]
  },
  {
   "cell_type": "code",
   "execution_count": null,
   "id": "renewable-member",
   "metadata": {},
   "outputs": [],
   "source": [
    "flex_normal = flexsurv::flexsurvreg(Surv(start_date, end_date, warend) ~ lagLogTotalWarRelated+logpop+elf+lngdp+uppsalaMaxed+logbattledeaths+mountains+guarantee, \n",
    "                       data = duration, dist = 'lognormal'); "
   ]
  },
  {
   "cell_type": "code",
   "execution_count": null,
   "id": "abandoned-representation",
   "metadata": {},
   "outputs": [],
   "source": [
    "flex_weibull = flexsurv::flexsurvreg(Surv(start_date, end_date, warend) ~ lagLogTotalWarRelated+logpop+elf+lngdp+uppsalaMaxed+logbattledeaths+mountains+guarantee, \n",
    "                          data = duration, dist = 'weibull')"
   ]
  },
  {
   "cell_type": "code",
   "execution_count": null,
   "id": "incident-production",
   "metadata": {},
   "outputs": [],
   "source": [
    "flex_log = flexsurv::flexsurvreg(Surv(start_date, end_date, warend) ~ lagLogTotalWarRelated+logpop+elf+lngdp+uppsalaMaxed+logbattledeaths+mountains+guarantee, \n",
    "                          data = duration, dist = 'llogis')"
   ]
  },
  {
   "cell_type": "code",
   "execution_count": null,
   "id": "israeli-religious",
   "metadata": {},
   "outputs": [],
   "source": [
    "flex_exp = flexsurv::flexsurvreg(Surv(start_date, end_date, warend) ~ lagLogTotalWarRelated+logpop+elf+lngdp+uppsalaMaxed+logbattledeaths+mountains+guarantee, \n",
    "                          data = duration, dist = 'exponential')"
   ]
  },
  {
   "cell_type": "code",
   "execution_count": null,
   "id": "incredible-subsection",
   "metadata": {},
   "outputs": [],
   "source": [
    "dist <- list(\"lognormal\", \"weibull\", \"llogis\", \"exponential\")\n",
    "\n",
    "survival.function <- function(dist){\n",
    "    model <- flexsurv::flexsurvreg(Surv(start_date, end_date, warend) ~ lagLogTotalWarRelated+logpop+elf+lngdp+uppsalaMaxed+logbattledeaths+mountains+guarantee, \n",
    "                       data = duration, dist = dist)\n",
    "    aic <- model$AIC\n",
    "    loglik <- model$loglik\n",
    "    score <- rbind(aic, loglik)\n",
    "}\n",
    "\n",
    "model_fit <- sapply(dist, FUN = survival.function, USE.NAMES = TRUE)"
   ]
  },
  {
   "cell_type": "code",
   "execution_count": null,
   "id": "coordinate-handle",
   "metadata": {},
   "outputs": [],
   "source": [
    "rownames(model_fit) = c(\"AIC\", \"Log-Likelihood\")\n",
    "\n",
    "colnames(model_fit) = c(\"Log Normal\", \"Weibull\", \"Log Logistic\", \"Exponential\")\n",
    "\n",
    "stargazer(model_fit, type ='text', flip = TRUE, digits = 1, title =\"Model Fit Comparison of Findley and Young (2015)\")"
   ]
  },
  {
   "cell_type": "markdown",
   "id": "lonely-allocation",
   "metadata": {},
   "source": [
    "#### Table 3: Survival Modeling of Civil War Duration (Findley and Young 2015)\n",
    "\n"
   ]
  },
  {
   "cell_type": "markdown",
   "id": "academic-journalism",
   "metadata": {},
   "source": [
    "The default parameterization in R is the accelerated failure time (A.F.T). For weibull-PH model, we use `eha` package in R which produces results similar to streg in Stata. "
   ]
  },
  {
   "cell_type": "code",
   "execution_count": 23,
   "id": "wireless-pierce",
   "metadata": {},
   "outputs": [],
   "source": [
    "model_normal = aftreg(Surv(start_date, end_date, warend) ~ lagLogTotalWarRelated+logpop+elf+lngdp+uppsalaMaxed+logbattledeaths+mountains+guarantee, \n",
    "                       data = duration, dist = 'lognormal')\n",
    "\n",
    "weibulAFT = aftreg(Surv(start_date, end_date, warend) ~ lagLogTotalWarRelated+logpop+elf+lngdp+uppsalaMaxed+logbattledeaths+mountains+guarantee, \n",
    "                          data = duration, dist = 'weibull')\n",
    "\n",
    "weibull_ph = phreg(Surv(start_date, end_date, warend) ~ lagLogTotalWarRelated+logpop+elf+lngdp+uppsalaMaxed+logbattledeaths+mountains+guarantee, \n",
    "              dist= 'weibull', data = duration)\n",
    "\n",
    "cox_model = coxreg(Surv(start_date, end_date, warend) ~ lagLogTotalWarRelated+logpop+elf+lngdp+uppsalaMaxed+logbattledeaths+\n",
    "             mountains+guarantee,data = duration, method=\"breslow\")"
   ]
  },
  {
   "cell_type": "markdown",
   "id": "accredited-diagnosis",
   "metadata": {},
   "source": [
    "Unlike `stcox` function in Stata, `coxph` function from `survival` package in R only reports exponentiated coefficients (hazard ratio), but not adjusted standard errors. In order to fix this problem, we need to first adjust the errors by the ratio of the number of groups in the clustered errors and also scale them using the delta method. So we fit a second Cox model and adjust the standard errors. However, `Stargazer` only accepts numeric values, so we convert `se_cox` from list to numeric to include in stargazer"
   ]
  },
  {
   "cell_type": "code",
   "execution_count": 31,
   "id": "southwest-guarantee",
   "metadata": {},
   "outputs": [],
   "source": [
    "Cox_formula <- as.formula(Surv(start_date, end_date, warend) ~ lagLogTotalWarRelated+logpop+elf+lngdp+uppsalaMaxed+logbattledeaths+mountains+guarantee, \n",
    "                  cluster(warnumber))\n",
    "Cox_HR <- coxph(Cox_formula, data = duration, method=\"breslow\")\n",
    "\n",
    "adjustment <- nlevels(factor(duration$warnumber))\n",
    "se_cox <- c()\n",
    "se_cox[[1]] <- sqrt(exp(coef(Cox_HR))^2*diag(vcov(Cox_HR)) * (adjustment/(adjustment-1)))\n",
    "Cox_HR$coefficients <- exp(Cox_HR$coefficients)\n",
    "\n",
    "tval <- c()\n",
    "tval[[1]] <- as.vector(Cox_HR$coefficients)/se_cox[[1]]\n",
    "pvalues <- c()\n",
    "pvalues[[1]] <- pt(abs(tval[[1]]), df = 10, lower.tail = FALSE)*2\n",
    "\n",
    "se_cox = as.numeric(as.character(unlist(se_cox[[1]])))"
   ]
  },
  {
   "cell_type": "code",
   "execution_count": null,
   "id": "smoking-davis",
   "metadata": {},
   "outputs": [],
   "source": [
    "stargazer(weibull_ph, weibulAFT, model_normal, cox_model, Cox_HR,\n",
    "          se = list(NULL, NULL, NULL, NULL, se_cox), \n",
    "          covariate.labels = c('Terrorism(log/lag)', 'Population(log)','Ethnic fractionalization','GDP(log)', 'Number of actors',\n",
    "                               'Battle deaths (log)', 'Mountainous terrain', 'Security guarantee'), \n",
    "          column.labels = c('Weibul(PH)', 'Weibul(AFT)', 'Log Normal', 'Cox Model', 'Cox Model (HR)'), \n",
    "          dep.var.labels.include = FALSE, \n",
    "          dep.var.caption=\"\", \n",
    "          keep.stat = c('aic', 'll'), \n",
    "          out = 'all.txt',\n",
    "          model.names = FALSE, type= 'text', \n",
    "          star.cutoffs=NA, \n",
    "          notes='p < 0.05; Standard errors reported in parentheses', notes.append = FALSE) \n"
   ]
  },
  {
   "cell_type": "markdown",
   "id": "accessory-armstrong",
   "metadata": {},
   "source": [
    "#### Table 4: Time Varying Test of Proportional Hazards"
   ]
  },
  {
   "cell_type": "markdown",
   "id": "olive-kennedy",
   "metadata": {},
   "source": [
    "The results of three models are presented in the table; a cox model with all covariates, a model with an interaction term between terrorism and time (`lagLogTotalWarRelated:warmonths`), and a model with an interaction term that looks at wars longer the 81 months (the median value). As explained earlier, we need to transform standard errors of `coxph` to obtain standard errors for exponentiated coefficients. "
   ]
  },
  {
   "cell_type": "code",
   "execution_count": 110,
   "id": "vocational-capability",
   "metadata": {},
   "outputs": [],
   "source": [
    "formula0 <- as.formula(Surv(start_date, end_date, warend) ~ \n",
    "                       lagLogTotalWarRelated+logpop+elf+lngdp+uppsalaMaxed+logbattledeaths+mountains+guarantee, cluster(warnumber))\n",
    "cox_ph <- coxph(formula0, data = duration, method=\"breslow\")\n",
    "\n",
    "adjustment <- nlevels(factor(duration$warnumber))\n",
    "se_cox <- c()\n",
    "se_cox[[1]] <- sqrt(exp(coef(cox_ph))^2*diag(vcov(cox_ph)) * (adjustment/(adjustment-1)))\n",
    "cox_ph$coefficients <- exp(cox_ph$coefficients)\n",
    "\n",
    "tval <- c()\n",
    "tval[[1]] <- as.vector(cox_ph$coefficients)/se_cox[[1]]\n",
    "pvalues <- c()\n",
    "pvalues[[1]] <- pt(abs(tval[[1]]), df = 10, lower.tail = FALSE)*2\n",
    "\n",
    "se_cox = as.numeric(as.character(unlist(se_cox[[1]])))"
   ]
  },
  {
   "cell_type": "code",
   "execution_count": 111,
   "id": "agreed-civilization",
   "metadata": {},
   "outputs": [],
   "source": [
    "formula1 <- as.formula(Surv(start_date, end_date, warend) ~ lagLogTotalWarRelated+logpop+elf+lngdp+uppsalaMaxed+logbattledeaths+mountains+guarantee+\n",
    "                      lagLogTotalWarRelated:warmonths, cluster(warnumber))\n",
    "tvc_cox = coxph(formula1, data = duration, method= 'breslow')\n",
    "\n",
    "adjustment <- nlevels(factor(duration$warnumber))\n",
    "se_coxt <- c()\n",
    "se_coxt[[1]] <- sqrt(exp(coef(tvc_cox))^2*diag(vcov(tvc_cox)) * (adjustment/(adjustment-1)))\n",
    "tvc_cox$coefficients <- exp(tvc_cox$coefficients)\n",
    "\n",
    "tval <- c()\n",
    "tval[[1]] <- as.vector(tvc_cox$coefficients)/se_coxt[[1]]\n",
    "pvalues <- c()\n",
    "pvalues[[1]] <- pt(abs(tval[[1]]), df = 10, lower.tail = FALSE)*2\n",
    "\n",
    "se_coxt = as.numeric(as.character(unlist(se_coxt[[1]])))"
   ]
  },
  {
   "cell_type": "markdown",
   "id": "headed-penguin",
   "metadata": {},
   "source": [
    "To create model 3, we use th time transforme functionality of `coxph` to examine the possibility that terror events have more effect on the duration of civil wars later in campaigns"
   ]
  },
  {
   "cell_type": "code",
   "execution_count": 108,
   "id": "realistic-banana",
   "metadata": {},
   "outputs": [],
   "source": [
    "formula2 <- as.formula(Surv(start_date, end_date, warend) ~ \n",
    "                      lagLogTotalWarRelated+logpop+elf+lngdp+uppsalaMaxed+logbattledeaths+mountains+guarantee+tt(lagLogTotalWarRelated),cluster(warnumber))\n",
    "tvc_cox2 = coxph(formula2, tt=function(x, t, ...) ifelse(t > 81, x, 0), data = duration, method= 'breslow')\n",
    "                 \n",
    "adjustment <- nlevels(factor(duration$warnumber))\n",
    "se_coxt2 <- c()\n",
    "se_coxt2[[1]] <- sqrt(exp(coef(tvc_cox2))^2*diag(vcov(tvc_cox2)) * (adjustment/(adjustment-1)))\n",
    "tvc_cox2$coefficients <- exp(tvc_cox2$coefficients)\n",
    "\n",
    "tval <- c()\n",
    "tval[[1]] <- as.vector(tvc_cox2$coefficients)/se_coxt2[[1]]\n",
    "pvalues <- c()\n",
    "pvalues[[1]] <- pt(abs(tval[[1]]), df = 10, lower.tail = FALSE)*2\n",
    "\n",
    "se_coxt2 = as.numeric(as.character(unlist(se_coxt2[[1]])))"
   ]
  },
  {
   "cell_type": "code",
   "execution_count": 113,
   "id": "sixth-platform",
   "metadata": {},
   "outputs": [
    {
     "name": "stdout",
     "output_type": "stream",
     "text": [
      "\n",
      "Time Varying Test of Proportional Hazards\n",
      "====================================================\n",
      "                            Cox (PH) Cox TVC Cox TVC\n",
      "                              (1)      (2)     (3)  \n",
      "----------------------------------------------------\n",
      "Terrorism(log/lag)           0.741    0.785   0.696 \n",
      "                            (0.123)  (0.170) (0.153)\n",
      "                                                    \n",
      "Terrorism(log/lag):Duration           0.999         \n",
      "                                     (0.002)        \n",
      "                                                    \n",
      "Terrorism(log/lag):Duration                   1.149 \n",
      "                                             (0.348)\n",
      "                                                    \n",
      "====================================================\n",
      "====================================================\n"
     ]
    }
   ],
   "source": [
    "stargazer(cox_ph, tvc_cox, tvc_cox2, se = list(se_cox, se_coxt, se_coxt2), column.labels = c(\"Cox (PH)\", \"Cox TVC\", \"Cox TVC\"), \n",
    "          title='Time Varying Test of Proportional Hazards', dep.var.labels.include = FALSE, p.auto=FALSE, dep.var.caption=\"\",\n",
    "          covariate.labels = c(\"Terrorism(log/lag)\",\"Terrorism(log/lag):Duration\", \"Terrorism(log/lag):Duration\"), omit.table.layout = \"sn\",\n",
    "          keep = c(\"lagLogTotalWarRelated\", \"lagLogTotalWarRelated:warmonths\"),\n",
    "          omit.stat=c(\"LL\",\"ser\",\"f\", \"wald\", \"rsq\", \"lr\", \"logrank\", \"max.rsq\"), star.cutoffs=NA,\n",
    "          model.names = FALSE, type='text', out='model_output/time_varying_cox.txt')"
   ]
  },
  {
   "cell_type": "markdown",
   "id": "native-asset",
   "metadata": {},
   "source": [
    "#### Table 5: Schoenfeld Residual Test of Proportional Hazards"
   ]
  },
  {
   "cell_type": "code",
   "execution_count": null,
   "id": "played-still",
   "metadata": {},
   "outputs": [],
   "source": [
    "formula <- as.formula(Surv(start_date, end_date, warend) ~ lagLogTotalWarRelated+logpop+elf+lngdp+uppsalaMaxed+logbattledeaths+mountains+guarantee)\n",
    "coxmodel <- coxph(formula, data = duration, method=\"breslow\")\n",
    "\n",
    "adjustment <- nlevels(factor(duration$warnumber))\n",
    "se_cox <- c()\n",
    "se_cox[[1]] <- sqrt(exp(coef(coxmodel))^2*diag(vcov(coxmodel)) * (adjustment/(adjustment-1)))\n",
    "coxmodel$coefficients <- exp(coxmodel$coefficients)\n",
    "\n",
    "tval <- c()\n",
    "tval[[1]] <- as.vector(coxmodel$coefficients)/se_cox[[1]]\n",
    "pvalues <- c()\n",
    "pvalues[[1]] <- pt(abs(tval[[1]]), df = 10, lower.tail = FALSE)*2\n",
    "\n",
    "temp <- (cox.zph(coxmodel))\n",
    "print(temp)"
   ]
  }
 ],
 "metadata": {
  "kernelspec": {
   "display_name": "R",
   "language": "R",
   "name": "ir"
  },
  "language_info": {
   "codemirror_mode": "r",
   "file_extension": ".r",
   "mimetype": "text/x-r-source",
   "name": "R",
   "pygments_lexer": "r",
   "version": "3.6.3"
  }
 },
 "nbformat": 4,
 "nbformat_minor": 5
}
