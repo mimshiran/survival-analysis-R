{
 "cells": [
  {
   "cell_type": "markdown",
   "id": "phantom-butler",
   "metadata": {},
   "source": [
    "# Survival Analysis in International Relations\n",
    "## Replication Code for Figures in Chapter"
   ]
  },
  {
   "cell_type": "markdown",
   "id": "surrounded-collective",
   "metadata": {},
   "source": [
    "We need the following packages to run this notebook:\n",
    "```R\n",
    "install.packages(c(\"haven\", \"stargazer\", \"survival\",\"ggplot2\", \"ggrepel\", \"flexsurv\", 'eha', \"survminer\"))\n",
    "```"
   ]
  },
  {
   "cell_type": "code",
   "execution_count": null,
   "id": "united-depth",
   "metadata": {},
   "outputs": [],
   "source": [
    "install.packages(c(\"coxed\", \"easypackages\"))"
   ]
  },
  {
   "cell_type": "code",
   "execution_count": null,
   "id": "transparent-martial",
   "metadata": {},
   "outputs": [],
   "source": [
    "easypackages::libraries(\"haven\", \"stargazer\", \"survival\",\"ggplot2\", \"eha\", \"coxed\", \"dplyr\", \"flexsurv\", \"survminer\")\n",
    "options(scipen = 999)"
   ]
  },
  {
   "cell_type": "markdown",
   "id": "dying-webcam",
   "metadata": {},
   "source": [
    "#### Figure 2: Duration of months until civil conflict ends, Findley and Young (2015)"
   ]
  },
  {
   "cell_type": "code",
   "execution_count": null,
   "id": "tight-harvey",
   "metadata": {},
   "outputs": [],
   "source": [
    "duration <- haven::read_dta('replication-data/duration_main.dta')\n",
    "duration <- duration[!is.na(duration$warmonths),]\n",
    "duration <- as.data.frame(duration)\n",
    "\n",
    "a = ggplot(duration, aes(warmonths))\n",
    "a + geom_histogram(binwidth=15, colour=\"black\", fill=\"white\", aes(y = ..density..)) + \n",
    "  geom_density() + labs(title = 'Duration of months until civil conflict ends, Findley and Young (2015)', \n",
    "     x =\"Months until civil war ends\", y= \"\") + xlim(c(0, 800))"
   ]
  },
  {
   "cell_type": "markdown",
   "id": "clear-idaho",
   "metadata": {},
   "source": [
    "#### Figure 4 - Weibull Model: Civil War Hazard Expectations "
   ]
  },
  {
   "cell_type": "markdown",
   "id": "municipal-iraqi",
   "metadata": {},
   "source": [
    "The plots are produced using two pakcages, `eha` and `fluxsurv` to better illustrate the differences and similarities between the two packages. "
   ]
  },
  {
   "cell_type": "code",
   "execution_count": null,
   "id": "interesting-tomato",
   "metadata": {},
   "outputs": [],
   "source": [
    "duration <- haven::read_dta('replication-data/duration_main_est.dta')\n",
    "duration <- duration[duration$`_st` == 1,]\n",
    "\n",
    "duration$start_date <- duration$`_t0`\n",
    "duration$end_date <- duration$`_t`\n",
    "\n",
    "duration <- as.data.frame(duration)"
   ]
  },
  {
   "cell_type": "code",
   "execution_count": null,
   "id": "impossible-uganda",
   "metadata": {},
   "outputs": [],
   "source": [
    "flex_weibull <- flexsurv::flexsurvreg(Surv(start_date, end_date, warend) ~ \n",
    "                                      lagLogTotalWarRelated+logpop+elf+lngdp+uppsalaMaxed+logbattledeaths+mountains+guarantee, \n",
    "                                      data = duration, dist = 'weibull')"
   ]
  },
  {
   "cell_type": "markdown",
   "id": "abstract-signal",
   "metadata": {},
   "source": [
    "We create two new dataframes at different values of security guarantee and terrorism to be used in plotting the model"
   ]
  },
  {
   "cell_type": "code",
   "execution_count": null,
   "id": "placed-fourth",
   "metadata": {},
   "outputs": [],
   "source": [
    "duration_m <- duration %>% \n",
    "select(\n",
    "    logpop, \n",
    "    elf, \n",
    "    uppsalaMaxed,\n",
    "    lngdp,\n",
    "    logbattledeaths, \n",
    "    mountains) %>% \n",
    "summarize_all(.,mean, na.rm = TRUE)\n",
    "duration_g <- cbind(guarantee = c(0, 0),rbind(duration_m, duration_m))\n",
    "duration_g <- cbind(lagLogTotalWarRelated = c(0.8247647, 1.9610567),rbind(duration_g, duration_g)) \n",
    "\n",
    "duration_g1 <- cbind(guarantee = c(1, 1),rbind(duration_m, duration_m))\n",
    "duration_g1 <- cbind(lagLogTotalWarRelated = c(0.8247647, 1.9610567),rbind(duration_g1, duration_g1))       "
   ]
  },
  {
   "cell_type": "markdown",
   "id": "private-arcade",
   "metadata": {},
   "source": [
    "To save the figures as pdf we use `pdf` function. For example: \n",
    "\n",
    "```R\n",
    "pdf(\"model_output/Figure4a_flexsurv_weibull.pdf\")\n",
    "```"
   ]
  },
  {
   "cell_type": "code",
   "execution_count": null,
   "id": "muslim-attribute",
   "metadata": {},
   "outputs": [],
   "source": [
    "plot(NULL, xlim=c(0,600), ylim=c(0,0.06), ylab=\"Survival Rate\", xlab=\"Analysis Time\", \n",
    "     main='Weibull Expectation: No Security Guarantee', axes=F)\n",
    "axis(side=1)\n",
    "axis(side=2)\n",
    "lines(flex_weibull, newdata = duration_g, type = \"hazard\", ci=FALSE, col = c('blue','red'))\n",
    "legend(\"topright\", legend = c(\"Mean Level of Terrorism\", \"One SD Increase\"), col = c('blue','red'), lty=c(1,1))"
   ]
  },
  {
   "cell_type": "code",
   "execution_count": null,
   "id": "bulgarian-utilization",
   "metadata": {},
   "outputs": [],
   "source": [
    "plot(NULL, xlim=c(0,600), ylim=c(0,0.06), ylab=\"Survival Rate\", xlab=\"Analysis Time\", main='Weibull Expectation: Security Guarantee', axes=F)\n",
    "axis(side=1)\n",
    "axis(side=2)\n",
    "lines(flex_weibull, newdata = duration_g1, type = \"hazard\", ci=FALSE, col = c('blue','red'))\n",
    "legend(\"topright\", legend = c(\"Mean Level of Terrorism\", \"One SD Increase\"), col = c('blue','red'), lty=c(1,1))"
   ]
  },
  {
   "cell_type": "code",
   "execution_count": null,
   "id": "iraqi-sustainability",
   "metadata": {},
   "outputs": [],
   "source": [
    "plot(flex_weibull, type = \"cumhaz\", ci = FALSE, est = TRUE, main = 'Weibull Cumulative Hazard')\n",
    "plot(flex_weibull, type = \"survival\", ci = FALSE, est = TRUE, main = 'Weibull Survival Rate')"
   ]
  },
  {
   "cell_type": "markdown",
   "id": "secondary-grade",
   "metadata": {},
   "source": [
    "Using aftreg function from `eha` package"
   ]
  },
  {
   "cell_type": "code",
   "execution_count": null,
   "id": "found-mumbai",
   "metadata": {},
   "outputs": [],
   "source": [
    "weibulAFT = aftreg(Surv(start_date, end_date, warend) ~ lagLogTotalWarRelated+logpop+elf+lngdp+uppsalaMaxed+logbattledeaths+mountains+strata(guarantee), \n",
    "                          data = duration, dist = 'weibull')"
   ]
  },
  {
   "cell_type": "code",
   "execution_count": null,
   "id": "missing-courtesy",
   "metadata": {},
   "outputs": [],
   "source": [
    "duration_m <- duration %>% \n",
    "select(\n",
    "    lagLogTotalWarRelated,\n",
    "    logpop, \n",
    "    elf, \n",
    "    uppsalaMaxed,\n",
    "    lngdp,\n",
    "    logbattledeaths, \n",
    "    mountains) %>% \n",
    "summarize_all(.,mean, na.rm = TRUE)"
   ]
  },
  {
   "cell_type": "code",
   "execution_count": null,
   "id": "sticky-marker",
   "metadata": {},
   "outputs": [],
   "source": [
    "plot(weibulAFT, fn ='sur', new.data=duration_m, xlab='Analysis Time', ylab='Survival Rate', main = 'Weibull Model: Civil War Hazard Expectations')"
   ]
  },
  {
   "cell_type": "markdown",
   "id": "stuck-little",
   "metadata": {},
   "source": [
    "The author of the package recommends using `phreg` combined with `strata(variable)` for the purpose of plotting `weibull` at different values of a binary variable."
   ]
  },
  {
   "cell_type": "code",
   "execution_count": null,
   "id": "adolescent-prompt",
   "metadata": {},
   "outputs": [],
   "source": [
    "weibull_ph = phreg(Surv(start_date, end_date, warend) ~ lagLogTotalWarRelated+logpop+elf+lngdp+uppsalaMaxed+logbattledeaths+mountains+strata(guarantee), \n",
    "              dist= 'weibull', data = duration)\n",
    "\n",
    "plot(weibull_ph, xlab='Analysis Time', ylab='Weibull Hazard', col= c('red', 'blue'), main = 'Civil War Hazard Expectations', printLegend=TRUE)"
   ]
  },
  {
   "cell_type": "markdown",
   "id": "silent-preservation",
   "metadata": {},
   "source": [
    "#### Figure 5: Log Linear Model: Civil War Hazard Expectations "
   ]
  },
  {
   "cell_type": "code",
   "execution_count": null,
   "id": "august-kenya",
   "metadata": {},
   "outputs": [],
   "source": [
    "flex_normal = flexsurv::flexsurvreg(Surv(start_date, end_date, warend) ~ \n",
    "                                    lagLogTotalWarRelated+logpop+elf+lngdp+uppsalaMaxed+logbattledeaths+mountains+guarantee, \n",
    "                                    data = duration, dist = 'lognormal')"
   ]
  },
  {
   "cell_type": "markdown",
   "id": "caroline-facility",
   "metadata": {},
   "source": [
    "We create a new dataframe using two values of terrorism at mean and mea+1sd to be used for plotting the results. "
   ]
  },
  {
   "cell_type": "code",
   "execution_count": null,
   "id": "decimal-product",
   "metadata": {},
   "outputs": [],
   "source": [
    "duration_m <- duration %>% \n",
    "select(\n",
    "    logpop, \n",
    "    elf, \n",
    "    uppsalaMaxed,\n",
    "    lngdp,\n",
    "    logbattledeaths, \n",
    "    mountains, \n",
    "    guarantee) %>% \n",
    "summarize_all(.,mean, na.rm = TRUE)\n",
    "\n",
    "duration.df <- cbind(lagLogTotalWarRelated = c(0.8247647, 1.9610567),rbind(duration_m, duration_m))\n",
    "duration <- as.data.frame(duration)"
   ]
  },
  {
   "cell_type": "code",
   "execution_count": null,
   "id": "upset-plaintiff",
   "metadata": {},
   "outputs": [],
   "source": [
    "plot(NULL, xlim=c(0,600), ylim=c(0,1), ylab=\"Survival Rate\", xlab=\"Analysis Time\", main='Survival Rate', axes=F)\n",
    "axis(side=1)\n",
    "axis(side=2)\n",
    "lines(flex_normal, newdata = duration.df, type = \"survival\", ci=FALSE, col = c('blue','red'))\n",
    "legend(\"topright\", legend = c(\"Mean Level of Terrorism\", \"One SD Increase\"), col = c('blue','red'), lty=c(1,1))"
   ]
  },
  {
   "cell_type": "code",
   "execution_count": null,
   "id": "roman-terminal",
   "metadata": {},
   "outputs": [],
   "source": [
    "plot(NULL, xlim=c(0,600), ylim=c(0,0.01), ylab=\"Hazard Rate\", xlab=\"Analysis Time\", main='Hazard Rate', axes=F)\n",
    "axis(side=1)\n",
    "axis(side=2)\n",
    "lines(flex_normal, newdata = duration.df, type = \"hazard\", ci=FALSE, col = c('blue','red'))\n",
    "legend(\"topright\", legend = c(\"Mean Level of Terrorism\", \"One SD Increase\"), col = c('blue','red'), lty=c(1,1))"
   ]
  },
  {
   "cell_type": "code",
   "execution_count": null,
   "id": "possible-klein",
   "metadata": {},
   "outputs": [],
   "source": [
    "plot(flex_normal, type = \"cumhaz\", ci = FALSE, est = TRUE, main = 'Log-Normal Cumulative Hazard')\n",
    "plot(flex_normal, type = \"survival\", ci = FALSE, est = TRUE, main = 'Log-Normal Survival Rate')"
   ]
  },
  {
   "cell_type": "markdown",
   "id": "brief-auditor",
   "metadata": {},
   "source": [
    "Now we fit and plot the model using `aftreg` function"
   ]
  },
  {
   "cell_type": "code",
   "execution_count": null,
   "id": "private-senegal",
   "metadata": {},
   "outputs": [],
   "source": [
    "eha_normal= aftreg(Surv(start_date, end_date, warend) ~ lagLogTotalWarRelated+logpop+elf+lngdp+uppsalaMaxed+logbattledeaths+mountains+strata(guarantee), \n",
    "              dist= 'lognormal', data = duration)\n",
    "\n",
    "plot(eha_normal, new.data= duration.m)\n",
    "plot(eha_normal, fn = c('haz', 'sur'), new.data= duration.m, main='Log Linear Model: Civil War Hazard Expectations')"
   ]
  },
  {
   "cell_type": "markdown",
   "id": "changing-engineering",
   "metadata": {},
   "source": [
    "#### Figure 6: Cox Model: Civil War Hazard Expectations \n",
    "\n"
   ]
  },
  {
   "cell_type": "markdown",
   "id": "other-secondary",
   "metadata": {},
   "source": [
    "We create newdata at the mean of variables, and append a variable at two levels of terrorism to it for creating Hazard and Survival Rate plots. "
   ]
  },
  {
   "cell_type": "code",
   "execution_count": null,
   "id": "protected-final",
   "metadata": {},
   "outputs": [],
   "source": [
    "duration.mean <- duration %>% select(\n",
    "                                logpop,\n",
    "                                elf,\n",
    "                                uppsalaMaxed,\n",
    "                                lngdp,\n",
    "                                logbattledeaths,\n",
    "                                mountains, \n",
    "    guarantee) %>%\n",
    "        summarize_all(.,mean, na.rm = TRUE)\n",
    "duration.df <- cbind(lagLogTotalWarRelated = c(0.8247647, 1.9610567),rbind(duration.mean,duration.mean))"
   ]
  },
  {
   "cell_type": "code",
   "execution_count": null,
   "id": "handy-external",
   "metadata": {},
   "outputs": [],
   "source": [
    "cox_model <- coxreg(Surv(start_date, end_date, warend) ~ lagLogTotalWarRelated+logpop+elf+lngdp+uppsalaMaxed+logbattledeaths+\n",
    "             mountains+guarantee,data = duration, method=\"breslow\")\n",
    "\n",
    "fit <- survfit(cox_model, newdata = duration.df, data = duration)\n",
    "\n",
    "splots <- list()\n",
    "splots[[2]] <- survminer::ggsurvplot(fit, conf.int = FALSE, \n",
    "                      ylab = \"Survival Rate\",\n",
    "                      xlab = \"Analysis Time\",\n",
    "                      linetype = \"solid\",\n",
    "                      legend.title = \"\", \n",
    "                      legend.labs=c(\"Mean Level of Terrorism\", \"One SD Increase\"), \n",
    "                      legend = 'bottom',\n",
    "                      palette = c(\"#E7B800\", \"#2E9FDF\"),\n",
    "                      ggtheme = theme_classic())\n",
    "\n",
    "splots[[1]] <- survminer::ggsurvplot(fit, conf.int = FALSE, \n",
    "                      fun = 'cumhaz',\n",
    "                      ylab = 'Hazard Rate',\n",
    "                      xlab = 'Analysis Time',\n",
    "                      linetype = \"solid\",\n",
    "                      legend.title = \"\", \n",
    "                      legend.labs=c(\"Mean Level of Terrorism\", \"One SD Increase\"), \n",
    "                      legend = 'bottom',\n",
    "                      palette = c(\"#E7B800\", \"#2E9FDF\"),\n",
    "                      ggtheme = theme_classic())\n",
    "\n",
    "cox_plots <- survminer::arrange_ggsurvplots(splots,\n",
    "                               surv.plot.height = 2,\n",
    "                               title = 'Cox Model: Civil War Hazard Expectations (Findley and Young 2015)',\n",
    "                               ncol = 2, nrow = 1, ggsave = 'cox_plots.pdf')"
   ]
  },
  {
   "cell_type": "markdown",
   "id": "fancy-consent",
   "metadata": {},
   "source": [
    "Here we plot hazard rate using `coxed` package "
   ]
  },
  {
   "cell_type": "code",
   "execution_count": null,
   "id": "loving-bennett",
   "metadata": {},
   "outputs": [],
   "source": [
    "me <- coxed(coxmodel, method=\"npsf\")\n",
    "\n",
    "baseline <- tidyr::gather(ed1$baseline.functions, cbh, survivor, key=\"survivefunction\", value=\"value\")\n",
    "\n",
    "ggplot(baseline, aes(x=time, y=value)) +\n",
    "     geom_line() +\n",
    "     xlab(\"Analysis Time\") +\n",
    "     ylab(\"Function\") +\n",
    "     facet_wrap( ~ survivefunction, scales = \"free\")"
   ]
  },
  {
   "cell_type": "markdown",
   "id": "premier-champion",
   "metadata": {},
   "source": [
    "Forest plot for cox proportional hazards model using `survminer`"
   ]
  },
  {
   "cell_type": "code",
   "execution_count": null,
   "id": "thirty-webcam",
   "metadata": {},
   "outputs": [],
   "source": [
    "survminer::ggforest(\n",
    "  coxmodel,\n",
    "  data = duration,\n",
    "  main = \"Hazard ratio\",\n",
    "  cpositions = c(0.02, 0.22, 0.4),\n",
    "  fontsize = 0.7,\n",
    "  refLabel = \"reference\",\n",
    "  noDigits = 2\n",
    ")"
   ]
  },
  {
   "cell_type": "markdown",
   "id": "annoying-tenant",
   "metadata": {},
   "source": [
    "#### Figure 7: Kaplan Meier survival curves and hazard estimates"
   ]
  },
  {
   "cell_type": "markdown",
   "id": "incomplete-protection",
   "metadata": {},
   "source": [
    "For reproducing this plot, we utilize `ggsurvplot` function from `survminer` package."
   ]
  },
  {
   "cell_type": "code",
   "execution_count": null,
   "id": "other-philosophy",
   "metadata": {},
   "outputs": [],
   "source": [
    "duration.km <- survfit(Surv(start_date, end_date, warend) ~ 1, data = duration)\n",
    "\n",
    "survminer::ggsurvplot(duration.km, legend = \"right\", legend.title = \"\", legend.labs = c(\"Kaplan-Meier\"), \n",
    "                        , ggtheme = theme_grey(), conf.int = FALSE, linetype = c(1), palette = \"darkblue\", censor = FALSE) + \n",
    "ggtitle(\"Kaplan Meier survival estimates\") + labs(x =\"Analysis Time\", y = \"\") "
   ]
  },
  {
   "cell_type": "code",
   "execution_count": null,
   "id": "unavailable-caribbean",
   "metadata": {},
   "outputs": [],
   "source": [
    "mh <- muhaz::muhaz(duration$warmonths, duration$warend, bw.method=\"g\",  kern=\"epanechnikov\")\n",
    "plot(mh, xlab=\"Analysis Time\", main=\"Smoothed Hazard Rates\")"
   ]
  },
  {
   "cell_type": "code",
   "execution_count": null,
   "id": "golden-fancy",
   "metadata": {},
   "outputs": [],
   "source": [
    "fit <- survival::survfit(survival::Surv(start_date, end_date, warend) ~ guarantee, data = duration)\n",
    "survminer::ggsurvplot(fit, xlab='Analysis Time', ylab = '', \n",
    "                      ggtheme = theme_grey(),\n",
    "                      legend = \"right\", legend.title = \"Legend\", legend.labs = c('No Security Guarantee', 'Security Guarantee'), \n",
    "                      linetype = c('solid','solid'), palette = c(\"darkblue\", 'brown'))"
   ]
  },
  {
   "cell_type": "code",
   "execution_count": null,
   "id": "drawn-therapy",
   "metadata": {},
   "outputs": [],
   "source": [
    "duration$mount <- as.factor(ifelse(duration$mountains > 23, 'mountainous', 'non-mountainous'))\n",
    "\n",
    "fit <- survival::survfit(survival::Surv(start_date, end_date, warend) ~ mount, data = duration)\n",
    "duration <- as.data.frame(duration)\n",
    "\n",
    "survminer::ggsurvplot(fit, xlab='Analysis Time', ylab = '', group_by='mount', title ='Mountainous Terrain', \n",
    "                      ggtheme = theme_grey(),\n",
    "                      legend = \"right\", legend.title = \"Legend\", legend.labs = c('Mountainous', 'Non-Mountainous'), \n",
    "                      linetype = c('solid','solid'), palette = c(\"darkblue\", 'brown'))"
   ]
  },
  {
   "cell_type": "markdown",
   "id": "premier-laundry",
   "metadata": {},
   "source": [
    "#### Figure 8: Proportional hazards Test"
   ]
  },
  {
   "cell_type": "code",
   "execution_count": null,
   "id": "rotary-module",
   "metadata": {},
   "outputs": [],
   "source": [
    "formula <- as.formula(Surv(start_date, end_date, warend) ~ lagLogTotalWarRelated+logpop+elf+lngdp+uppsalaMaxed+logbattledeaths+mountains+guarantee, \n",
    "                  cluster(warnumber))\n",
    "coxmodel <- coxph(formula, data = duration, method=\"breslow\")\n",
    "\n",
    "diag = cox.zph(coxmodel)"
   ]
  },
  {
   "cell_type": "code",
   "execution_count": null,
   "id": "temporal-senator",
   "metadata": {},
   "outputs": [],
   "source": [
    "plot(diag[1], main = 'Terrorism', ylab = 'Scaled Schoenfeld Residuals', xlab ='War Months')\n",
    "abline(h=0)\n",
    "plot(diag[7], main = 'Mountainous Terrain', ylab = 'Scaled Schoenfeld Residuals', xlab ='War Months')\n",
    "abline(h=0)"
   ]
  },
  {
   "cell_type": "markdown",
   "id": "secure-junior",
   "metadata": {},
   "source": [
    "#### GAM Difference"
   ]
  },
  {
   "cell_type": "code",
   "execution_count": null,
   "id": "streaming-strip",
   "metadata": {},
   "outputs": [],
   "source": [
    "duration = haven::read_dta('replication-data/duration_main_est.dta')\n",
    "duration = duration[duration$`_st` == 1,]\n",
    "\n",
    "duration$start_date <- duration$`_t0`\n",
    "duration$end_date <- duration$`_t`\n",
    "\n",
    "formula0 <- as.formula(Surv(warmonths, warend) ~ lagLogTotalWarRelated+logpop+elf+lngdp+uppsalaMaxed+logbattledeaths+mountains+guarantee, \n",
    "                  cluster(warnumber))\n",
    "mv.cox <- coxph(formula0, data = duration, method=\"breslow\")\n",
    "\n",
    "me <- coxed(mv.cox, method = \"gam\", bootstrap = TRUE,\n",
    "            newdata = dplyr::mutate(duration, guarantee=0, na.rm=TRUE),\n",
    "            newdata2 = dplyr::mutate(duration, guarantee=1, na.rm=TRUE))\n",
    "\n",
    "meplot <- rbind(me$mean.diff, me$mean1, me$mean2)\n",
    "meplot$description <- c(\"Difference\",\n",
    "                        \"Security Guarantee = 0\",\n",
    "                        \"Security Guarantee = 1\")\n",
    "\n",
    "meplot$order <- 1:3\n",
    "meplot$model <- factor(meplot$order, labels = meplot$description)\n",
    "ggplot(meplot)+ geom_segment(aes(x = model, xend = model, y = lb, yend = ub))+\n",
    "  geom_hline(aes(yintercept = 0), colour = \"grey\")+\n",
    "  geom_point(aes(x = model, y = mean))+\n",
    "  coord_flip()+ ylab(expression(paste(Delta, \"Expected Duration of War (Months)\")))+\n",
    "  xlab(\"\") + theme_classic()"
   ]
  }
 ],
 "metadata": {
  "kernelspec": {
   "display_name": "R",
   "language": "R",
   "name": "ir"
  },
  "language_info": {
   "codemirror_mode": "r",
   "file_extension": ".r",
   "mimetype": "text/x-r-source",
   "name": "R",
   "pygments_lexer": "r",
   "version": "3.6.3"
  }
 },
 "nbformat": 4,
 "nbformat_minor": 5
}
